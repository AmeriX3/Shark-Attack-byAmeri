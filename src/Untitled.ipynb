{
 "cells": [
  {
   "cell_type": "code",
   "execution_count": 84,
   "id": "7dffe884-3e0b-4f55-a132-60c351649aac",
   "metadata": {},
   "outputs": [],
   "source": [
    "import requests\n",
    "import json\n",
    "import os\n",
    "import pandas as pd\n",
    "from pandas import json_normalize"
   ]
  },
  {
   "cell_type": "code",
   "execution_count": 135,
   "id": "56d20155-0763-4cec-8344-eec2b45e033f",
   "metadata": {},
   "outputs": [
    {
     "data": {
      "text/html": [
       "<div>\n",
       "<style scoped>\n",
       "    .dataframe tbody tr th:only-of-type {\n",
       "        vertical-align: middle;\n",
       "    }\n",
       "\n",
       "    .dataframe tbody tr th {\n",
       "        vertical-align: top;\n",
       "    }\n",
       "\n",
       "    .dataframe thead th {\n",
       "        text-align: right;\n",
       "    }\n",
       "</style>\n",
       "<table border=\"1\" class=\"dataframe\">\n",
       "  <thead>\n",
       "    <tr style=\"text-align: right;\">\n",
       "      <th></th>\n",
       "      <th>quote</th>\n",
       "      <th>author</th>\n",
       "    </tr>\n",
       "  </thead>\n",
       "  <tbody>\n",
       "    <tr>\n",
       "      <th>0</th>\n",
       "      <td>I have spent my whole life scared frightened o...</td>\n",
       "      <td>Walter White</td>\n",
       "    </tr>\n",
       "    <tr>\n",
       "      <th>1</th>\n",
       "      <td>I'm not in the meth business. I'm in the empir...</td>\n",
       "      <td>Walter White</td>\n",
       "    </tr>\n",
       "    <tr>\n",
       "      <th>2</th>\n",
       "      <td>Because I say so.</td>\n",
       "      <td>Walter White</td>\n",
       "    </tr>\n",
       "    <tr>\n",
       "      <th>3</th>\n",
       "      <td>May his death satisfy you.</td>\n",
       "      <td>Gustavo Fring</td>\n",
       "    </tr>\n",
       "    <tr>\n",
       "      <th>4</th>\n",
       "      <td>Alright, I've got the talking pillow now... Okay?</td>\n",
       "      <td>Walter White</td>\n",
       "    </tr>\n",
       "    <tr>\n",
       "      <th>5</th>\n",
       "      <td>You all know exactly who I am. Say my name.</td>\n",
       "      <td>Walter White</td>\n",
       "    </tr>\n",
       "    <tr>\n",
       "      <th>6</th>\n",
       "      <td>You little bastard.</td>\n",
       "      <td>Walter White</td>\n",
       "    </tr>\n",
       "    <tr>\n",
       "      <th>7</th>\n",
       "      <td>This is my own private domicile and I will not...</td>\n",
       "      <td>Jesse Pinkman</td>\n",
       "    </tr>\n",
       "    <tr>\n",
       "      <th>8</th>\n",
       "      <td>I did it for me. I liked it. I was good at it....</td>\n",
       "      <td>Walter White</td>\n",
       "    </tr>\n",
       "    <tr>\n",
       "      <th>9</th>\n",
       "      <td>Better call Saul!</td>\n",
       "      <td>Saul Goodman</td>\n",
       "    </tr>\n",
       "  </tbody>\n",
       "</table>\n",
       "</div>"
      ],
      "text/plain": [
       "                                               quote         author\n",
       "0  I have spent my whole life scared frightened o...   Walter White\n",
       "1  I'm not in the meth business. I'm in the empir...   Walter White\n",
       "2                                  Because I say so.   Walter White\n",
       "3                         May his death satisfy you.  Gustavo Fring\n",
       "4  Alright, I've got the talking pillow now... Okay?   Walter White\n",
       "5        You all know exactly who I am. Say my name.   Walter White\n",
       "6                                You little bastard.   Walter White\n",
       "7  This is my own private domicile and I will not...  Jesse Pinkman\n",
       "8  I did it for me. I liked it. I was good at it....   Walter White\n",
       "9                                  Better call Saul!   Saul Goodman"
      ]
     },
     "execution_count": 135,
     "metadata": {},
     "output_type": "execute_result"
    }
   ],
   "source": [
    "url = \"https://api.breakingbadquotes.xyz/v1/quotes/10\"\n",
    "res = requests.get(url)\n",
    "df = pd.DataFrame.from_dict(res.json())\n",
    "df"
   ]
  },
  {
   "cell_type": "code",
   "execution_count": 130,
   "id": "794dc6f2-9306-4d08-aa90-21d525c25e27",
   "metadata": {},
   "outputs": [],
   "source": [
    "res = requests.get(url)\n",
    "qut = res.json()json"
   ]
  },
  {
   "cell_type": "code",
   "execution_count": 123,
   "id": "6129d3fa-0d76-4a02-928d-8a0c7bb98e5a",
   "metadata": {},
   "outputs": [
    {
     "data": {
      "text/plain": [
       "list"
      ]
     },
     "execution_count": 123,
     "metadata": {},
     "output_type": "execute_result"
    }
   ],
   "source": [
    "type(qut)"
   ]
  },
  {
   "cell_type": "code",
   "execution_count": 124,
   "id": "f045e5d5-bd46-449e-b93a-c61d4748051e",
   "metadata": {},
   "outputs": [],
   "source": [
    "df = pd.DataFrame.from_dict(qut)"
   ]
  },
  {
   "cell_type": "code",
   "execution_count": 125,
   "id": "2bfe3ab3-3859-4cdb-ac7b-d784cd7ba292",
   "metadata": {},
   "outputs": [
    {
     "data": {
      "text/html": [
       "<div>\n",
       "<style scoped>\n",
       "    .dataframe tbody tr th:only-of-type {\n",
       "        vertical-align: middle;\n",
       "    }\n",
       "\n",
       "    .dataframe tbody tr th {\n",
       "        vertical-align: top;\n",
       "    }\n",
       "\n",
       "    .dataframe thead th {\n",
       "        text-align: right;\n",
       "    }\n",
       "</style>\n",
       "<table border=\"1\" class=\"dataframe\">\n",
       "  <thead>\n",
       "    <tr style=\"text-align: right;\">\n",
       "      <th></th>\n",
       "      <th>quote</th>\n",
       "      <th>author</th>\n",
       "    </tr>\n",
       "  </thead>\n",
       "  <tbody>\n",
       "    <tr>\n",
       "      <th>0</th>\n",
       "      <td>I'm sorry, what were you asking me? Oh, yes, t...</td>\n",
       "      <td>Walter White</td>\n",
       "    </tr>\n",
       "    <tr>\n",
       "      <th>1</th>\n",
       "      <td>I’m not saying it’s not bad. It’s bad. But it ...</td>\n",
       "      <td>Saul Goodman</td>\n",
       "    </tr>\n",
       "    <tr>\n",
       "      <th>2</th>\n",
       "      <td>So roll me further bitch!</td>\n",
       "      <td>Jesse Pinkman</td>\n",
       "    </tr>\n",
       "    <tr>\n",
       "      <th>3</th>\n",
       "      <td>I Won.</td>\n",
       "      <td>Walter White</td>\n",
       "    </tr>\n",
       "    <tr>\n",
       "      <th>4</th>\n",
       "      <td>Do you know how much I make a year? I mean, ev...</td>\n",
       "      <td>Walter White</td>\n",
       "    </tr>\n",
       "  </tbody>\n",
       "</table>\n",
       "</div>"
      ],
      "text/plain": [
       "                                               quote         author\n",
       "0  I'm sorry, what were you asking me? Oh, yes, t...   Walter White\n",
       "1  I’m not saying it’s not bad. It’s bad. But it ...   Saul Goodman\n",
       "2                          So roll me further bitch!  Jesse Pinkman\n",
       "3                                             I Won.   Walter White\n",
       "4  Do you know how much I make a year? I mean, ev...   Walter White"
      ]
     },
     "execution_count": 125,
     "metadata": {},
     "output_type": "execute_result"
    }
   ],
   "source": [
    "df"
   ]
  },
  {
   "cell_type": "code",
   "execution_count": 137,
   "id": "9de1161a-140d-4824-b6b4-8c478fc40ff3",
   "metadata": {},
   "outputs": [
    {
     "name": "stdout",
     "output_type": "stream",
     "text": [
      "{\"message\":\"You are not subscribed to this API.\"}\n"
     ]
    }
   ],
   "source": [
    "url = \"https://rapidprod-sendgrid-v1.p.rapidapi.com/alerts/%7Balert_id%7D\"\n",
    "\n",
    "payload = {\n",
    "\"type\": \"stats_notification\",\n",
    "\"email_to\": \"example@test.com\",\n",
    "\"frequency\": \"daily\"\n",
    "}\n",
    "headers = {\n",
    "\"content-type\": \"application/json\",\n",
    "\"X-RapidAPI-Key\": \"SIGN-UP-FOR-KEY\",\n",
    "\"X-RapidAPI-Host\": \"rapidprod-sendgrid-v1.p.rapidapi.com\"\n",
    "}\n",
    "\n",
    "response = requests.request(\"PATCH\", url, json=payload, headers=headers)\n",
    "\n",
    "print(response.text)"
   ]
  },
  {
   "cell_type": "code",
   "execution_count": null,
   "id": "222f27a2-b4cf-4290-a700-7712321873e8",
   "metadata": {},
   "outputs": [],
   "source": []
  }
 ],
 "metadata": {
  "kernelspec": {
   "display_name": "Python 3 (ipykernel)",
   "language": "python",
   "name": "python3"
  },
  "language_info": {
   "codemirror_mode": {
    "name": "ipython",
    "version": 3
   },
   "file_extension": ".py",
   "mimetype": "text/x-python",
   "name": "python",
   "nbconvert_exporter": "python",
   "pygments_lexer": "ipython3",
   "version": "3.8.13"
  }
 },
 "nbformat": 4,
 "nbformat_minor": 5
}
